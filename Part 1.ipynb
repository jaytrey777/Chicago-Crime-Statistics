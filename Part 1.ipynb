{
 "cells": [
  {
   "cell_type": "markdown",
   "id": "c44fed67",
   "metadata": {},
   "source": [
    "# Overview"
   ]
  },
  {
   "cell_type": "markdown",
   "id": "f01ad837",
   "metadata": {},
   "source": [
    "Data Source:\n",
    "- Use data from the [Chicago Data Portal](https://data.cityofchicago.org/Public-Safety/Crimes-2001-to-Present/ijzp-q8t2): Crimes 2001 to Present, which includes type of crime, date/time, lat/long, District/ward, arrests, etc.\n",
    "\n",
    "Helper Notebook:\n",
    "- Use the helper notebook in this [repository](https://github.com/coding-dojo-data-science/preparing-chicago-crime-data) to process your manually-downloaded csv into several .csv.gz files\n",
    "\n",
    "Supplemental Data:\n",
    "- To answer some of the possible questions, you may need to perform some feature engineering, like adding holiday information from an API on this [Holiday Data](https://docs.google.com/spreadsheets/d/1d8hoZzDAhbWx6EwNjrMTTOE5-23Pr1VxJeUxVj1JL9U/edit?usp=sharing)."
   ]
  },
  {
   "cell_type": "markdown",
   "id": "95798a32",
   "metadata": {},
   "source": [
    "## Possible Questions to consider:\n",
    "1) Comparing Police Districts:\n",
    " - Which district has the most crimes? Which has the least?\n",
    "2) Crimes Across the Years:\n",
    "  - Are the total number of crimes increasing or decreasing across the years?\n",
    "  - Are there any individual crimes that are doing the opposite (e.g decreasing when overall crime is increasing or vice-versa)?\n",
    "3) Comparing AM vs. PM Rush Hour:\n",
    "  - Are crimes more common during AM rush hour or PM rush hour?\n",
    "    - You can consider any crime that occurred between 7 AM - 10 AM as AM rush hour\n",
    "    - You can consider any crime that occurred between 4 -7 PM as PM rush hour.\n",
    "  - What are the top 5 most common crimes during AM rush hour? What are the top 5 most common crimes during PM rush hour?\n",
    "  - Are Motor Vehicle Thefts more common during AM rush hour or PM Rush Hour?\n",
    "4) Comparing Months:\n",
    "  - What months have the most crime? What months have the least?\n",
    "  - Are there any individual crimes that do not follow this pattern? If so, which crimes?\n",
    "5) Comparing Holidays:\n",
    "  - Are there any holidays that show an increase in the # of crimes?\n",
    "  - Are there any holidays that show a decrease in the # of crimes?"
   ]
  },
  {
   "cell_type": "markdown",
   "id": "c5003bb4",
   "metadata": {},
   "source": [
    "# Imports"
   ]
  },
  {
   "cell_type": "code",
   "execution_count": 1,
   "id": "3112dfc4",
   "metadata": {},
   "outputs": [],
   "source": [
    "import pandas as pd\n",
    "import matplotlib.pyplot as plt\n",
    "import seaborn as sns\n",
    "import matplotlib.ticker as mticks\n",
    "import datetime as dt\n",
    "from matplotlib import dates as mdates\n",
    "\n",
    "import warnings\n",
    "warnings.filterwarnings('ignore')"
   ]
  },
  {
   "cell_type": "markdown",
   "id": "83bf6b23",
   "metadata": {},
   "source": [
    "# Functions"
   ]
  },
  {
   "cell_type": "code",
   "execution_count": 2,
   "id": "0d520734",
   "metadata": {},
   "outputs": [],
   "source": [
    "# import data into variables\n",
    "def import_files():\n",
    "    \"\"\"Reads in .csv files from Data folder and names them\n",
    "    dynamically with appropriate year\"\"\"\n",
    "    \n",
    "    \n",
    "    file_name_template = \"Chicago-Crime_{}\"\n",
    "    years = range(2001, 2024)\n",
    "    \n",
    "    # initialize dictionary to save files to\n",
    "    data = {}\n",
    "    \n",
    "    # iterate through years\n",
    "    for year in years:\n",
    "        \n",
    "        # recreate the file name\n",
    "        file_name = file_name_template.format(year)\n",
    "        \n",
    "        # save file path based on file name\n",
    "        file_path = f\"Data/{file_name}.csv\"\n",
    "        \n",
    "        # import as df\n",
    "        df = pd.read_csv(file_path)\n",
    "        \n",
    "        # store in dictionary\n",
    "        data[file_name] = df\n",
    "        \n",
    "        # replace dash (not allowed in python variable\n",
    "        # names) with underscore\n",
    "        # initialize new dictionary\n",
    "        new_data = {}\n",
    "            \n",
    "        # loop through dict items\n",
    "        for key, value in data.items():\n",
    "            \n",
    "            # if dash in key\n",
    "            if \"-\" in key:\n",
    "                \n",
    "                # replace dash with underscore and save as new key\n",
    "                new_key = key.replace(\"-\", \"_\")\n",
    "                \n",
    "            # else new key is same as old key\n",
    "            else:\n",
    "                new_key = key\n",
    "                \n",
    "            # add new key with corresponding value to new dict\n",
    "            new_data[new_key] = value\n",
    "        \n",
    "    # return dictionary\n",
    "    return new_data"
   ]
  },
  {
   "cell_type": "code",
   "execution_count": 3,
   "id": "8e3c2e1c",
   "metadata": {},
   "outputs": [],
   "source": [
    "# function to format y-axis units\n",
    "def thousands(x, pos):\n",
    "    \"\"\"formats count in thousands\"\"\"\n",
    "    new_x = x / 1000\n",
    "    return f\"{new_x:,.0f}K\""
   ]
  },
  {
   "cell_type": "markdown",
   "id": "bc4c0899",
   "metadata": {},
   "source": [
    "# Data Loading"
   ]
  },
  {
   "cell_type": "code",
   "execution_count": 4,
   "id": "61467df1",
   "metadata": {},
   "outputs": [
    {
     "data": {
      "text/html": [
       "<div>\n",
       "<style scoped>\n",
       "    .dataframe tbody tr th:only-of-type {\n",
       "        vertical-align: middle;\n",
       "    }\n",
       "\n",
       "    .dataframe tbody tr th {\n",
       "        vertical-align: top;\n",
       "    }\n",
       "\n",
       "    .dataframe thead th {\n",
       "        text-align: right;\n",
       "    }\n",
       "</style>\n",
       "<table border=\"1\" class=\"dataframe\">\n",
       "  <thead>\n",
       "    <tr style=\"text-align: right;\">\n",
       "      <th></th>\n",
       "      <th>ID</th>\n",
       "      <th>Date</th>\n",
       "      <th>Primary Type</th>\n",
       "      <th>Description</th>\n",
       "      <th>Location Description</th>\n",
       "      <th>Arrest</th>\n",
       "      <th>Domestic</th>\n",
       "      <th>Beat</th>\n",
       "      <th>District</th>\n",
       "      <th>Ward</th>\n",
       "      <th>Latitude</th>\n",
       "      <th>Longitude</th>\n",
       "    </tr>\n",
       "  </thead>\n",
       "  <tbody>\n",
       "    <tr>\n",
       "      <th>0</th>\n",
       "      <td>12939189</td>\n",
       "      <td>01/01/2023 01:00:00 AM</td>\n",
       "      <td>OTHER OFFENSE</td>\n",
       "      <td>OTHER VEHICLE OFFENSE</td>\n",
       "      <td>STREET</td>\n",
       "      <td>False</td>\n",
       "      <td>True</td>\n",
       "      <td>423</td>\n",
       "      <td>4.0</td>\n",
       "      <td>7.0</td>\n",
       "      <td>41.736726</td>\n",
       "      <td>-87.556955</td>\n",
       "    </tr>\n",
       "    <tr>\n",
       "      <th>1</th>\n",
       "      <td>12944345</td>\n",
       "      <td>01/01/2023 01:00:00 AM</td>\n",
       "      <td>CRIMINAL DAMAGE</td>\n",
       "      <td>TO PROPERTY</td>\n",
       "      <td>RESIDENCE</td>\n",
       "      <td>False</td>\n",
       "      <td>False</td>\n",
       "      <td>633</td>\n",
       "      <td>6.0</td>\n",
       "      <td>9.0</td>\n",
       "      <td>41.728305</td>\n",
       "      <td>-87.613136</td>\n",
       "    </tr>\n",
       "    <tr>\n",
       "      <th>2</th>\n",
       "      <td>12938688</td>\n",
       "      <td>01/01/2023 01:00:00 AM</td>\n",
       "      <td>MOTOR VEHICLE THEFT</td>\n",
       "      <td>THEFT / RECOVERY - AUTOMOBILE</td>\n",
       "      <td>STREET</td>\n",
       "      <td>False</td>\n",
       "      <td>False</td>\n",
       "      <td>1632</td>\n",
       "      <td>16.0</td>\n",
       "      <td>38.0</td>\n",
       "      <td>41.944491</td>\n",
       "      <td>-87.787524</td>\n",
       "    </tr>\n",
       "    <tr>\n",
       "      <th>3</th>\n",
       "      <td>12944392</td>\n",
       "      <td>01/01/2023 01:00:00 PM</td>\n",
       "      <td>CRIMINAL DAMAGE</td>\n",
       "      <td>TO PROPERTY</td>\n",
       "      <td>RESIDENCE</td>\n",
       "      <td>False</td>\n",
       "      <td>False</td>\n",
       "      <td>915</td>\n",
       "      <td>9.0</td>\n",
       "      <td>11.0</td>\n",
       "      <td>41.833927</td>\n",
       "      <td>-87.641312</td>\n",
       "    </tr>\n",
       "    <tr>\n",
       "      <th>4</th>\n",
       "      <td>12943227</td>\n",
       "      <td>01/01/2023 01:00:00 AM</td>\n",
       "      <td>ROBBERY</td>\n",
       "      <td>STRONG ARM - NO WEAPON</td>\n",
       "      <td>CTA TRAIN</td>\n",
       "      <td>False</td>\n",
       "      <td>False</td>\n",
       "      <td>1132</td>\n",
       "      <td>11.0</td>\n",
       "      <td>24.0</td>\n",
       "      <td>41.873907</td>\n",
       "      <td>-87.725430</td>\n",
       "    </tr>\n",
       "    <tr>\n",
       "      <th>...</th>\n",
       "      <td>...</td>\n",
       "      <td>...</td>\n",
       "      <td>...</td>\n",
       "      <td>...</td>\n",
       "      <td>...</td>\n",
       "      <td>...</td>\n",
       "      <td>...</td>\n",
       "      <td>...</td>\n",
       "      <td>...</td>\n",
       "      <td>...</td>\n",
       "      <td>...</td>\n",
       "      <td>...</td>\n",
       "    </tr>\n",
       "    <tr>\n",
       "      <th>122001</th>\n",
       "      <td>13122057</td>\n",
       "      <td>06/28/2023 12:47:00 AM</td>\n",
       "      <td>ROBBERY</td>\n",
       "      <td>ARMED - HANDGUN</td>\n",
       "      <td>CAR WASH</td>\n",
       "      <td>False</td>\n",
       "      <td>False</td>\n",
       "      <td>1221</td>\n",
       "      <td>12.0</td>\n",
       "      <td>36.0</td>\n",
       "      <td>41.890695</td>\n",
       "      <td>-87.684644</td>\n",
       "    </tr>\n",
       "    <tr>\n",
       "      <th>122002</th>\n",
       "      <td>13122505</td>\n",
       "      <td>06/28/2023 12:50:00 PM</td>\n",
       "      <td>DECEPTIVE PRACTICE</td>\n",
       "      <td>ATTEMPT - FINANCIAL IDENTITY THEFT</td>\n",
       "      <td>APARTMENT</td>\n",
       "      <td>False</td>\n",
       "      <td>False</td>\n",
       "      <td>1931</td>\n",
       "      <td>19.0</td>\n",
       "      <td>32.0</td>\n",
       "      <td>41.934429</td>\n",
       "      <td>-87.675762</td>\n",
       "    </tr>\n",
       "    <tr>\n",
       "      <th>122003</th>\n",
       "      <td>13122064</td>\n",
       "      <td>06/28/2023 12:50:00 AM</td>\n",
       "      <td>ROBBERY</td>\n",
       "      <td>ARMED - HANDGUN</td>\n",
       "      <td>STREET</td>\n",
       "      <td>False</td>\n",
       "      <td>False</td>\n",
       "      <td>1135</td>\n",
       "      <td>11.0</td>\n",
       "      <td>28.0</td>\n",
       "      <td>41.867514</td>\n",
       "      <td>-87.686846</td>\n",
       "    </tr>\n",
       "    <tr>\n",
       "      <th>122004</th>\n",
       "      <td>13122624</td>\n",
       "      <td>06/28/2023 12:50:00 PM</td>\n",
       "      <td>ROBBERY</td>\n",
       "      <td>AGGRAVATED</td>\n",
       "      <td>SIDEWALK</td>\n",
       "      <td>False</td>\n",
       "      <td>False</td>\n",
       "      <td>513</td>\n",
       "      <td>5.0</td>\n",
       "      <td>9.0</td>\n",
       "      <td>41.694309</td>\n",
       "      <td>-87.620794</td>\n",
       "    </tr>\n",
       "    <tr>\n",
       "      <th>122005</th>\n",
       "      <td>13122527</td>\n",
       "      <td>06/28/2023 12:51:00 AM</td>\n",
       "      <td>CRIMINAL TRESPASS</td>\n",
       "      <td>TO VEHICLE</td>\n",
       "      <td>STREET</td>\n",
       "      <td>False</td>\n",
       "      <td>False</td>\n",
       "      <td>1125</td>\n",
       "      <td>11.0</td>\n",
       "      <td>27.0</td>\n",
       "      <td>41.879293</td>\n",
       "      <td>-87.692426</td>\n",
       "    </tr>\n",
       "  </tbody>\n",
       "</table>\n",
       "<p>122006 rows × 12 columns</p>\n",
       "</div>"
      ],
      "text/plain": [
       "              ID                    Date         Primary Type  \\\n",
       "0       12939189  01/01/2023 01:00:00 AM        OTHER OFFENSE   \n",
       "1       12944345  01/01/2023 01:00:00 AM      CRIMINAL DAMAGE   \n",
       "2       12938688  01/01/2023 01:00:00 AM  MOTOR VEHICLE THEFT   \n",
       "3       12944392  01/01/2023 01:00:00 PM      CRIMINAL DAMAGE   \n",
       "4       12943227  01/01/2023 01:00:00 AM              ROBBERY   \n",
       "...          ...                     ...                  ...   \n",
       "122001  13122057  06/28/2023 12:47:00 AM              ROBBERY   \n",
       "122002  13122505  06/28/2023 12:50:00 PM   DECEPTIVE PRACTICE   \n",
       "122003  13122064  06/28/2023 12:50:00 AM              ROBBERY   \n",
       "122004  13122624  06/28/2023 12:50:00 PM              ROBBERY   \n",
       "122005  13122527  06/28/2023 12:51:00 AM    CRIMINAL TRESPASS   \n",
       "\n",
       "                               Description Location Description  Arrest  \\\n",
       "0                    OTHER VEHICLE OFFENSE               STREET   False   \n",
       "1                              TO PROPERTY            RESIDENCE   False   \n",
       "2            THEFT / RECOVERY - AUTOMOBILE               STREET   False   \n",
       "3                              TO PROPERTY            RESIDENCE   False   \n",
       "4                   STRONG ARM - NO WEAPON            CTA TRAIN   False   \n",
       "...                                    ...                  ...     ...   \n",
       "122001                     ARMED - HANDGUN             CAR WASH   False   \n",
       "122002  ATTEMPT - FINANCIAL IDENTITY THEFT            APARTMENT   False   \n",
       "122003                     ARMED - HANDGUN               STREET   False   \n",
       "122004                          AGGRAVATED             SIDEWALK   False   \n",
       "122005                          TO VEHICLE               STREET   False   \n",
       "\n",
       "        Domestic  Beat  District  Ward   Latitude  Longitude  \n",
       "0           True   423       4.0   7.0  41.736726 -87.556955  \n",
       "1          False   633       6.0   9.0  41.728305 -87.613136  \n",
       "2          False  1632      16.0  38.0  41.944491 -87.787524  \n",
       "3          False   915       9.0  11.0  41.833927 -87.641312  \n",
       "4          False  1132      11.0  24.0  41.873907 -87.725430  \n",
       "...          ...   ...       ...   ...        ...        ...  \n",
       "122001     False  1221      12.0  36.0  41.890695 -87.684644  \n",
       "122002     False  1931      19.0  32.0  41.934429 -87.675762  \n",
       "122003     False  1135      11.0  28.0  41.867514 -87.686846  \n",
       "122004     False   513       5.0   9.0  41.694309 -87.620794  \n",
       "122005     False  1125      11.0  27.0  41.879293 -87.692426  \n",
       "\n",
       "[122006 rows x 12 columns]"
      ]
     },
     "execution_count": 4,
     "metadata": {},
     "output_type": "execute_result"
    }
   ],
   "source": [
    "# call function and store in variable\n",
    "imported_data = import_files()\n",
    "\n",
    "# assign values to variables based on key names\n",
    "for key, value in imported_data.items():\n",
    "    globals()[key] = value\n",
    "    \n",
    "Chicago_Crime_2023"
   ]
  },
  {
   "cell_type": "markdown",
   "id": "1a08780f",
   "metadata": {},
   "source": [
    "# Data Prep"
   ]
  },
  {
   "cell_type": "code",
   "execution_count": 5,
   "id": "fbfc689a",
   "metadata": {},
   "outputs": [
    {
     "name": "stdout",
     "output_type": "stream",
     "text": [
      "<class 'pandas.core.frame.DataFrame'>\n",
      "Int64Index: 7834343 entries, 0 to 122005\n",
      "Data columns (total 12 columns):\n",
      " #   Column                Dtype  \n",
      "---  ------                -----  \n",
      " 0   ID                    int64  \n",
      " 1   Date                  object \n",
      " 2   Primary Type          object \n",
      " 3   Description           object \n",
      " 4   Location Description  object \n",
      " 5   Arrest                bool   \n",
      " 6   Domestic              bool   \n",
      " 7   Beat                  int64  \n",
      " 8   District              float64\n",
      " 9   Ward                  float64\n",
      " 10  Latitude              float64\n",
      " 11  Longitude             float64\n",
      "dtypes: bool(2), float64(4), int64(2), object(4)\n",
      "memory usage: 672.4+ MB\n"
     ]
    }
   ],
   "source": [
    "df_list = [globals()[name] for name in imported_data.keys() if isinstance(globals()[name], pd.DataFrame)]\n",
    "df = pd.concat(df_list)\n",
    "\n",
    "df.info()"
   ]
  },
  {
   "cell_type": "code",
   "execution_count": 6,
   "id": "986de197",
   "metadata": {},
   "outputs": [
    {
     "data": {
      "text/html": [
       "<div>\n",
       "<style scoped>\n",
       "    .dataframe tbody tr th:only-of-type {\n",
       "        vertical-align: middle;\n",
       "    }\n",
       "\n",
       "    .dataframe tbody tr th {\n",
       "        vertical-align: top;\n",
       "    }\n",
       "\n",
       "    .dataframe thead th {\n",
       "        text-align: right;\n",
       "    }\n",
       "</style>\n",
       "<table border=\"1\" class=\"dataframe\">\n",
       "  <thead>\n",
       "    <tr style=\"text-align: right;\">\n",
       "      <th></th>\n",
       "      <th>ID</th>\n",
       "      <th>Date</th>\n",
       "      <th>Primary Type</th>\n",
       "      <th>Description</th>\n",
       "      <th>Location Description</th>\n",
       "      <th>Arrest</th>\n",
       "      <th>Domestic</th>\n",
       "      <th>Beat</th>\n",
       "      <th>District</th>\n",
       "      <th>Ward</th>\n",
       "      <th>Latitude</th>\n",
       "      <th>Longitude</th>\n",
       "    </tr>\n",
       "  </thead>\n",
       "  <tbody>\n",
       "    <tr>\n",
       "      <th>0</th>\n",
       "      <td>1323184</td>\n",
       "      <td>01/01/2001 01:00:00 PM</td>\n",
       "      <td>OTHER OFFENSE</td>\n",
       "      <td>HARASSMENT BY TELEPHONE</td>\n",
       "      <td>RESIDENCE</td>\n",
       "      <td>False</td>\n",
       "      <td>False</td>\n",
       "      <td>2213</td>\n",
       "      <td>22.0</td>\n",
       "      <td>NaN</td>\n",
       "      <td>41.707671</td>\n",
       "      <td>-87.666996</td>\n",
       "    </tr>\n",
       "    <tr>\n",
       "      <th>1</th>\n",
       "      <td>1328315</td>\n",
       "      <td>01/01/2001 01:00:00 AM</td>\n",
       "      <td>DECEPTIVE PRACTICE</td>\n",
       "      <td>FRAUD OR CONFIDENCE GAME</td>\n",
       "      <td>RESIDENCE</td>\n",
       "      <td>False</td>\n",
       "      <td>False</td>\n",
       "      <td>725</td>\n",
       "      <td>7.0</td>\n",
       "      <td>NaN</td>\n",
       "      <td>41.771269</td>\n",
       "      <td>-87.662929</td>\n",
       "    </tr>\n",
       "    <tr>\n",
       "      <th>2</th>\n",
       "      <td>1311933</td>\n",
       "      <td>01/01/2001 01:00:00 AM</td>\n",
       "      <td>SEX OFFENSE</td>\n",
       "      <td>CRIMINAL SEXUAL ABUSE</td>\n",
       "      <td>RESIDENCE</td>\n",
       "      <td>True</td>\n",
       "      <td>False</td>\n",
       "      <td>1434</td>\n",
       "      <td>14.0</td>\n",
       "      <td>NaN</td>\n",
       "      <td>41.910797</td>\n",
       "      <td>-87.682214</td>\n",
       "    </tr>\n",
       "    <tr>\n",
       "      <th>3</th>\n",
       "      <td>1330412</td>\n",
       "      <td>01/01/2001 01:00:00 AM</td>\n",
       "      <td>THEFT</td>\n",
       "      <td>$500 AND UNDER</td>\n",
       "      <td>TAVERN/LIQUOR STORE</td>\n",
       "      <td>False</td>\n",
       "      <td>False</td>\n",
       "      <td>1813</td>\n",
       "      <td>18.0</td>\n",
       "      <td>NaN</td>\n",
       "      <td>41.917383</td>\n",
       "      <td>-87.648623</td>\n",
       "    </tr>\n",
       "    <tr>\n",
       "      <th>4</th>\n",
       "      <td>1311735</td>\n",
       "      <td>01/01/2001 01:00:00 AM</td>\n",
       "      <td>BATTERY</td>\n",
       "      <td>AGGRAVATED: OTHER DANG WEAPON</td>\n",
       "      <td>STREET</td>\n",
       "      <td>False</td>\n",
       "      <td>False</td>\n",
       "      <td>1632</td>\n",
       "      <td>16.0</td>\n",
       "      <td>NaN</td>\n",
       "      <td>41.938196</td>\n",
       "      <td>-87.800534</td>\n",
       "    </tr>\n",
       "    <tr>\n",
       "      <th>...</th>\n",
       "      <td>...</td>\n",
       "      <td>...</td>\n",
       "      <td>...</td>\n",
       "      <td>...</td>\n",
       "      <td>...</td>\n",
       "      <td>...</td>\n",
       "      <td>...</td>\n",
       "      <td>...</td>\n",
       "      <td>...</td>\n",
       "      <td>...</td>\n",
       "      <td>...</td>\n",
       "      <td>...</td>\n",
       "    </tr>\n",
       "    <tr>\n",
       "      <th>122001</th>\n",
       "      <td>13122057</td>\n",
       "      <td>06/28/2023 12:47:00 AM</td>\n",
       "      <td>ROBBERY</td>\n",
       "      <td>ARMED - HANDGUN</td>\n",
       "      <td>CAR WASH</td>\n",
       "      <td>False</td>\n",
       "      <td>False</td>\n",
       "      <td>1221</td>\n",
       "      <td>12.0</td>\n",
       "      <td>36.0</td>\n",
       "      <td>41.890695</td>\n",
       "      <td>-87.684644</td>\n",
       "    </tr>\n",
       "    <tr>\n",
       "      <th>122002</th>\n",
       "      <td>13122505</td>\n",
       "      <td>06/28/2023 12:50:00 PM</td>\n",
       "      <td>DECEPTIVE PRACTICE</td>\n",
       "      <td>ATTEMPT - FINANCIAL IDENTITY THEFT</td>\n",
       "      <td>APARTMENT</td>\n",
       "      <td>False</td>\n",
       "      <td>False</td>\n",
       "      <td>1931</td>\n",
       "      <td>19.0</td>\n",
       "      <td>32.0</td>\n",
       "      <td>41.934429</td>\n",
       "      <td>-87.675762</td>\n",
       "    </tr>\n",
       "    <tr>\n",
       "      <th>122003</th>\n",
       "      <td>13122064</td>\n",
       "      <td>06/28/2023 12:50:00 AM</td>\n",
       "      <td>ROBBERY</td>\n",
       "      <td>ARMED - HANDGUN</td>\n",
       "      <td>STREET</td>\n",
       "      <td>False</td>\n",
       "      <td>False</td>\n",
       "      <td>1135</td>\n",
       "      <td>11.0</td>\n",
       "      <td>28.0</td>\n",
       "      <td>41.867514</td>\n",
       "      <td>-87.686846</td>\n",
       "    </tr>\n",
       "    <tr>\n",
       "      <th>122004</th>\n",
       "      <td>13122624</td>\n",
       "      <td>06/28/2023 12:50:00 PM</td>\n",
       "      <td>ROBBERY</td>\n",
       "      <td>AGGRAVATED</td>\n",
       "      <td>SIDEWALK</td>\n",
       "      <td>False</td>\n",
       "      <td>False</td>\n",
       "      <td>513</td>\n",
       "      <td>5.0</td>\n",
       "      <td>9.0</td>\n",
       "      <td>41.694309</td>\n",
       "      <td>-87.620794</td>\n",
       "    </tr>\n",
       "    <tr>\n",
       "      <th>122005</th>\n",
       "      <td>13122527</td>\n",
       "      <td>06/28/2023 12:51:00 AM</td>\n",
       "      <td>CRIMINAL TRESPASS</td>\n",
       "      <td>TO VEHICLE</td>\n",
       "      <td>STREET</td>\n",
       "      <td>False</td>\n",
       "      <td>False</td>\n",
       "      <td>1125</td>\n",
       "      <td>11.0</td>\n",
       "      <td>27.0</td>\n",
       "      <td>41.879293</td>\n",
       "      <td>-87.692426</td>\n",
       "    </tr>\n",
       "  </tbody>\n",
       "</table>\n",
       "<p>7834343 rows × 12 columns</p>\n",
       "</div>"
      ],
      "text/plain": [
       "              ID                    Date        Primary Type  \\\n",
       "0        1323184  01/01/2001 01:00:00 PM       OTHER OFFENSE   \n",
       "1        1328315  01/01/2001 01:00:00 AM  DECEPTIVE PRACTICE   \n",
       "2        1311933  01/01/2001 01:00:00 AM         SEX OFFENSE   \n",
       "3        1330412  01/01/2001 01:00:00 AM               THEFT   \n",
       "4        1311735  01/01/2001 01:00:00 AM             BATTERY   \n",
       "...          ...                     ...                 ...   \n",
       "122001  13122057  06/28/2023 12:47:00 AM             ROBBERY   \n",
       "122002  13122505  06/28/2023 12:50:00 PM  DECEPTIVE PRACTICE   \n",
       "122003  13122064  06/28/2023 12:50:00 AM             ROBBERY   \n",
       "122004  13122624  06/28/2023 12:50:00 PM             ROBBERY   \n",
       "122005  13122527  06/28/2023 12:51:00 AM   CRIMINAL TRESPASS   \n",
       "\n",
       "                               Description Location Description  Arrest  \\\n",
       "0                  HARASSMENT BY TELEPHONE            RESIDENCE   False   \n",
       "1                 FRAUD OR CONFIDENCE GAME            RESIDENCE   False   \n",
       "2                    CRIMINAL SEXUAL ABUSE            RESIDENCE    True   \n",
       "3                           $500 AND UNDER  TAVERN/LIQUOR STORE   False   \n",
       "4            AGGRAVATED: OTHER DANG WEAPON               STREET   False   \n",
       "...                                    ...                  ...     ...   \n",
       "122001                     ARMED - HANDGUN             CAR WASH   False   \n",
       "122002  ATTEMPT - FINANCIAL IDENTITY THEFT            APARTMENT   False   \n",
       "122003                     ARMED - HANDGUN               STREET   False   \n",
       "122004                          AGGRAVATED             SIDEWALK   False   \n",
       "122005                          TO VEHICLE               STREET   False   \n",
       "\n",
       "        Domestic  Beat  District  Ward   Latitude  Longitude  \n",
       "0          False  2213      22.0   NaN  41.707671 -87.666996  \n",
       "1          False   725       7.0   NaN  41.771269 -87.662929  \n",
       "2          False  1434      14.0   NaN  41.910797 -87.682214  \n",
       "3          False  1813      18.0   NaN  41.917383 -87.648623  \n",
       "4          False  1632      16.0   NaN  41.938196 -87.800534  \n",
       "...          ...   ...       ...   ...        ...        ...  \n",
       "122001     False  1221      12.0  36.0  41.890695 -87.684644  \n",
       "122002     False  1931      19.0  32.0  41.934429 -87.675762  \n",
       "122003     False  1135      11.0  28.0  41.867514 -87.686846  \n",
       "122004     False   513       5.0   9.0  41.694309 -87.620794  \n",
       "122005     False  1125      11.0  27.0  41.879293 -87.692426  \n",
       "\n",
       "[7834343 rows x 12 columns]"
      ]
     },
     "execution_count": 6,
     "metadata": {},
     "output_type": "execute_result"
    }
   ],
   "source": [
    "df"
   ]
  },
  {
   "cell_type": "code",
   "execution_count": 7,
   "id": "64022d24",
   "metadata": {},
   "outputs": [
    {
     "data": {
      "text/plain": [
       "ID                           0\n",
       "Date                         0\n",
       "Primary Type                 0\n",
       "Description                  0\n",
       "Location Description     10679\n",
       "Arrest                       0\n",
       "Domestic                     0\n",
       "Beat                         0\n",
       "District                    47\n",
       "Ward                    614849\n",
       "Latitude                 87853\n",
       "Longitude                87853\n",
       "dtype: int64"
      ]
     },
     "execution_count": 7,
     "metadata": {},
     "output_type": "execute_result"
    }
   ],
   "source": [
    "# Null Values\n",
    "df.isna().sum()"
   ]
  },
  {
   "cell_type": "code",
   "execution_count": null,
   "id": "8b9f29d8",
   "metadata": {},
   "outputs": [],
   "source": [
    "df['Date'] = pd.to_datetime(df['Date'], format = '%m/%d/%Y %I:%M:%S %p')\n",
    "\n",
    "df['Date']"
   ]
  },
  {
   "cell_type": "code",
   "execution_count": null,
   "id": "8bc3d30d",
   "metadata": {},
   "outputs": [],
   "source": [
    "# set datetime column as index\n",
    "chicago_crime = df.set_index('Date')\n",
    "\n",
    "chicago_crime"
   ]
  },
  {
   "cell_type": "code",
   "execution_count": null,
   "id": "c0feddf8",
   "metadata": {},
   "outputs": [],
   "source": [
    "chicago_resampled_df = chicago_crime.copy()\n",
    "chicago_resampled_df['Total Crimes'] = 1\n",
    "\n",
    "# resample and count with .sum()\n",
    "chicago_resampled_df = chicago_resampled_df.resample('D').count()\n",
    "\n",
    "chicago_resampled_df.head()"
   ]
  },
  {
   "cell_type": "code",
   "execution_count": null,
   "id": "8e78ac93",
   "metadata": {},
   "outputs": [],
   "source": [
    "chicago_resampled_df = chicago_crime.copy()\n",
    "chicago_resampled_df['Total Crimes'] = 1\n",
    "\n",
    "# resample and count with .sum()\n",
    "chicago_resampled_df = chicago_resampled_df.resample('D').sum(numeric_only = True)\n",
    "\n",
    "chicago_resampled_df.head()"
   ]
  },
  {
   "cell_type": "markdown",
   "id": "43dc261c",
   "metadata": {},
   "source": [
    "I now have my data ready:\n",
    "- **chicago_crime** has one row per instance of a crime"
   ]
  },
  {
   "cell_type": "markdown",
   "id": "8b82f9bb",
   "metadata": {},
   "source": [
    "# Questions"
   ]
  },
  {
   "cell_type": "markdown",
   "id": "9ad5ad60",
   "metadata": {},
   "source": [
    "## 1. Which district has the most crimes and which has the least?"
   ]
  },
  {
   "cell_type": "code",
   "execution_count": null,
   "id": "80f33a60",
   "metadata": {},
   "outputs": [],
   "source": [
    "chicago_crime['District'] = chicago_crime['District'].astype('Int64')\n",
    "chicago_crime.info()"
   ]
  },
  {
   "cell_type": "code",
   "execution_count": null,
   "id": "adf54c4b",
   "metadata": {},
   "outputs": [],
   "source": [
    "# counts per district\n",
    "chicago_crime['District'].value_counts()"
   ]
  },
  {
   "cell_type": "code",
   "execution_count": null,
   "id": "aeda6f73",
   "metadata": {},
   "outputs": [],
   "source": [
    "# percentages of crimes\n",
    "chicago_crime['District'].value_counts(normalize = True)"
   ]
  },
  {
   "cell_type": "markdown",
   "id": "ce943005",
   "metadata": {},
   "source": [
    "### Visualization"
   ]
  },
  {
   "cell_type": "code",
   "execution_count": null,
   "id": "f6279d80",
   "metadata": {},
   "outputs": [],
   "source": [
    "district_info = chicago_crime['District'].value_counts()\n",
    "\n",
    "fig, ax = plt.subplots(figsize = (10, 8))\n",
    "ax = sns.barplot(x = district_info.index, y = district_info.values)\n",
    "\n",
    "\n",
    "fmt_thous = mticks.FuncFormatter(thousands)\n",
    "ax.yaxis.set_major_formatter(fmt_thous)\n",
    "\n",
    "ax.set_title('Total Crimes by District(2001-2022)', fontsize = 15, weight = 'bold')\n",
    "ax.set_ylabel('Number of Crimes (in Thousands)', fontsize = 15, weight = 'bold')\n",
    "ax.set_xlabel('District', fontsize = 15, weight = 'bold');"
   ]
  },
  {
   "cell_type": "code",
   "execution_count": null,
   "id": "5e592180",
   "metadata": {},
   "outputs": [],
   "source": [
    "district_info = chicago_crime['District'].value_counts(dropna = True, normalize = True)\n",
    "\n",
    "fig, ax = plt.subplots(figsize = (10, 8))\n",
    "ax = sns.barplot(x = district_info.index, y = district_info.values)\n",
    "\n",
    "ax.set_title('Percentage of Crimes by District(2001-2022)', fontsize = 20, weight = 'bold')\n",
    "ax.set_ylabel('Percentage of Crimes', fontsize = 15, weight = 'bold')\n",
    "ax.set_xlabel('District', fontsize = 15, weight = 'bold');"
   ]
  },
  {
   "cell_type": "markdown",
   "id": "f2fb0e87",
   "metadata": {},
   "source": [
    "### Analysis"
   ]
  },
  {
   "cell_type": "markdown",
   "id": "e94ef602",
   "metadata": {},
   "source": [
    "Which district has the most crimes? Which has the least?\n",
    "- **District 8** has the **most** crimes with **526293 total crimes**. This represents **6.72%** of the total crimes reported.\n",
    "- **District 21** has the **least** crimes with **4** total crimes. This represents **0.0001%** of the total crimes reported."
   ]
  },
  {
   "cell_type": "markdown",
   "id": "81b07178",
   "metadata": {},
   "source": [
    "## 2a. Are the total number of yearly crimes increasing or decreasing? "
   ]
  },
  {
   "cell_type": "code",
   "execution_count": null,
   "id": "fea59b4e",
   "metadata": {},
   "outputs": [],
   "source": [
    "yearly_crime = chicago_crime.resample('Y').size()\n",
    "\n",
    "yearly_crime"
   ]
  },
  {
   "cell_type": "markdown",
   "id": "92f9ce8e",
   "metadata": {},
   "source": [
    "### Visualization"
   ]
  },
  {
   "cell_type": "code",
   "execution_count": null,
   "id": "f52f134c",
   "metadata": {},
   "outputs": [],
   "source": [
    "fig, ax = plt.subplots(figsize = (10, 8))\n",
    "ax = sns.lineplot(x = yearly_crime.index, y = yearly_crime.values)\n",
    "\n",
    "fmt_thous = mticks.FuncFormatter(thousands)\n",
    "ax.yaxis.set_major_formatter(fmt_thous)\n",
    "\n",
    "major_ticks_loc = mdates.YearLocator(1)\n",
    "major_ticks_format = mdates.DateFormatter('%Y')\n",
    "x_years = pd.date_range(start = '2002', end = '2024', freq = 'AS')\n",
    "plt.xticks(x_years, [year.year for year in x_years])\n",
    "\n",
    "plt.xticks(rotation = 60)\n",
    "ax.grid()\n",
    "\n",
    "ax.set_title('Total Crimes by Year(2001-2022)', fontsize = 20, weight = 'bold')\n",
    "ax.set_ylabel('Total Crimes', fontsize = 15, weight = 'bold')\n",
    "ax.set_xlabel('Year', fontsize = 15, weight = 'bold');"
   ]
  },
  {
   "cell_type": "markdown",
   "id": "559a886f",
   "metadata": {},
   "source": [
    "### Analysis"
   ]
  },
  {
   "cell_type": "markdown",
   "id": "7d2d71e8",
   "metadata": {},
   "source": [
    "Are the total number of yearly crimes increasing or decreasing? \n",
    "- Crime rate over the years has been **Decreasing**"
   ]
  },
  {
   "cell_type": "markdown",
   "id": "d7c7209a",
   "metadata": {},
   "source": [
    "## 2b. Are there any individual crimes that are trending the opposite way? "
   ]
  },
  {
   "cell_type": "code",
   "execution_count": null,
   "id": "a385ccc0",
   "metadata": {},
   "outputs": [],
   "source": [
    "chicago_crime['Primary Type'].value_counts()"
   ]
  },
  {
   "cell_type": "markdown",
   "id": "222de0d5",
   "metadata": {},
   "source": [
    "- I need to clean up the column headers `CRIM SEXUAL ASSAULT`,`OTHER NARCOTIC VIOLATION`, `NON - CRIMINAL`, and `NON-CRIMINAL (SUBJECT SPECIFIED)`."
   ]
  },
  {
   "cell_type": "code",
   "execution_count": null,
   "id": "3218f4e9",
   "metadata": {},
   "outputs": [],
   "source": [
    "chicago_crime['Primary Type'] = chicago_crime['Primary Type'].replace(\n",
    "    {'CRIM SEXUAL ASSAULT': 'CRIMINAL SEXUAL ASSAULT',                                                 \n",
    "     'NON - CRIMINAL': 'NON-CRIMINAL',                                                     \n",
    "     'NON-CRIMINAL (SUBJECT SPECIFIED)': 'NON-CRIMINAL',                                                 \n",
    "     'OTHER NARCOTIC VIOLATION': 'NARCOTICS'})\n",
    "\n",
    "chicago_crime['Primary Type'].value_counts()"
   ]
  },
  {
   "cell_type": "code",
   "execution_count": null,
   "id": "2ce4318c",
   "metadata": {},
   "outputs": [],
   "source": [
    "specific_crimes = chicago_crime.copy()\n",
    "specific_crimes['Count'] = 1\n",
    "\n",
    "specific_crimes.info()"
   ]
  },
  {
   "cell_type": "code",
   "execution_count": null,
   "id": "3a17513c",
   "metadata": {},
   "outputs": [],
   "source": [
    "specific_crimes = specific_crimes.groupby('Primary Type').resample('Y').count()\n",
    "\n",
    "drop_these = ['ID', 'Arrest', 'Domestic', 'Beat', 'District', 'Ward', 'Latitude',\n",
    "              'Longitude', 'Primary Type', 'Description', 'Location Description']\n",
    "specific_crimes.drop(columns = drop_these, inplace = True)\n",
    "\n",
    "specific_crimes"
   ]
  },
  {
   "cell_type": "code",
   "execution_count": null,
   "id": "dddbbb09",
   "metadata": {},
   "outputs": [],
   "source": [
    "crime_unstacked = specific_crimes.unstack(level = 0)\n",
    "\n",
    "crime_unstacked"
   ]
  },
  {
   "cell_type": "markdown",
   "id": "f3903ff9",
   "metadata": {},
   "source": [
    "### Visualization"
   ]
  },
  {
   "cell_type": "code",
   "execution_count": null,
   "id": "be6d7f20",
   "metadata": {
    "scrolled": false
   },
   "outputs": [],
   "source": [
    "for i, column in enumerate(crime_unstacked.columns):\n",
    "    fig, ax = plt.subplots(figsize = (10, 8))\n",
    "    crime_unstacked[column].plot(ax = ax)\n",
    "\n",
    "    fmt_thous = mticks.FuncFormatter(thousands)\n",
    "    ax.yaxis.set_major_formatter(fmt_thous)\n",
    "\n",
    "    major_ticks_loc = mdates.YearLocator(1)\n",
    "    major_ticks_format = mdates.DateFormatter('%Y')\n",
    "    x_years = pd.date_range(start = '2002', end = '2024', freq = 'AS')\n",
    "    plt.xticks(x_years, [year.year for year in x_years])\n",
    "\n",
    "    plt.xticks(rotation = 60)\n",
    "    ax.grid()\n",
    "\n",
    "    ax.set_title(f'Total {column[1].title()} Crimes by Year(2001-2022)', fontsize = 20, weight = 'bold')\n",
    "    ax.set_ylabel('Total Crimes', fontsize = 15, weight = 'bold')\n",
    "    ax.set_xlabel('Year', fontsize = 15, weight = 'bold');"
   ]
  },
  {
   "cell_type": "markdown",
   "id": "4bbff0bb",
   "metadata": {},
   "source": [
    "### Analysis"
   ]
  },
  {
   "cell_type": "markdown",
   "id": "ee42fd9a",
   "metadata": {},
   "source": [
    "- The following crime categories are trending different from the overall crime statistics:\n",
    "  - CONCEALED CARRY LICENSE VIOLATION: Consistently low until 2013 and then peaked in 2019. Has been consistently high the last few years\n",
    "  - CRIMINAL SEXUAL ASSAULT: Consistent throughout the years\n",
    "  - DECEPTIVE PRACTICE: Consistent until 2014 then peaked in 2018 but now on the decline\n",
    "  - DOMESTIC VIOLENCE: Basically nonexistent. Not enough into to determine a trend\n",
    "  - HOMICIDE: Consistent until 2015 then had a huge increase in 2016. Decreased in 2017, but now is at its peak in 2022\n",
    "  - HUMAN TRAFFICKING: Consistently on the rise since 2012\n",
    "  - INTERFERENCE WITH PUBLIC OFFICER: Increased consistently until 2019, then had a sharp decline\n",
    "  - MOTOR VEHICLE THEFT: Following the trend and decreasing until 2021 but had an uptick in 2022\n",
    "  - NON-CRIMINAL: Consistent until 2011 then increased until its peak in 2016. Now back down to pre-2011 levels\n",
    "  - OBSCENITY: Consistent until 2014 then had a increase until its peak in 2017 and 2018 now it is on the decline\n",
    "  - PUBLIC INDECENCY: Overall low but had a swell from 2011 - 2020\n",
    "  - PUBLIC PEACE VIOLATION: Had an increase from 2001 - 2010, but has been consistently decreasing since then\n",
    "  - RITUALISM: Had a spike in 2006 but overall has been very low\n",
    "  - STALKING: Consistently low until about 2020 then more than doubles in 2021\n",
    "  - WEAPONS VIOLATION: consistent from  from 2001 to 2016, then had a very steep increase since then. More than double annually"
   ]
  },
  {
   "cell_type": "markdown",
   "id": "c6da0073",
   "metadata": {},
   "source": [
    "## 3a. Which months have the most crime? Which have the least?"
   ]
  },
  {
   "cell_type": "code",
   "execution_count": null,
   "id": "4598c2c3",
   "metadata": {},
   "outputs": [],
   "source": [
    "monthly = df.copy()\n",
    "monthly['Month'] = monthly['Date'].dt.month_name()\n",
    "\n",
    "monthly['Month'].nunique()"
   ]
  },
  {
   "cell_type": "code",
   "execution_count": null,
   "id": "1d782749",
   "metadata": {},
   "outputs": [],
   "source": [
    "monthly['Month'].unique()"
   ]
  },
  {
   "cell_type": "code",
   "execution_count": null,
   "id": "08492eb1",
   "metadata": {},
   "outputs": [],
   "source": [
    "months = monthly['Month'].value_counts(dropna = False)\n",
    "\n",
    "months"
   ]
  },
  {
   "cell_type": "markdown",
   "id": "336d0d65",
   "metadata": {},
   "source": [
    "### Visualization"
   ]
  },
  {
   "cell_type": "code",
   "execution_count": null,
   "id": "85dc9ac2",
   "metadata": {},
   "outputs": [],
   "source": [
    "fig, ax = plt.subplots(figsize = (10, 8))\n",
    "ax = sns.barplot(x = months.index, y = months.values)\n",
    "\n",
    "\n",
    "fmt_thous = mticks.FuncFormatter(thousands)\n",
    "ax.yaxis.set_major_formatter(fmt_thous)\n",
    "\n",
    "# set title and axes\n",
    "ax.set_title('Total Crimes by Month(2001-2022) \\n Sorted by Total Crime', fontsize = 20, weight = 'bold')\n",
    "ax.set_ylabel('Number of Crimes (in Thousands)', fontsize = 20, weight = 'bold')\n",
    "ax.set_xlabel('Month', fontsize = 15, weight = 'bold')\n",
    "\n",
    "# rotate x-ticks\n",
    "plt.xticks(rotation = 90);"
   ]
  },
  {
   "cell_type": "code",
   "execution_count": null,
   "id": "01f1de1d",
   "metadata": {},
   "outputs": [],
   "source": [
    "month_order = ['January','February','March','April','May','June','July',\n",
    "               'August','September','October','November','December']\n",
    "\n",
    "months_in_order = months.reindex(month_order)\n",
    "\n",
    "months_in_order"
   ]
  },
  {
   "cell_type": "code",
   "execution_count": null,
   "id": "4c1021c5",
   "metadata": {},
   "outputs": [],
   "source": [
    "fig, ax = plt.subplots(figsize = (10, 8))\n",
    "ax = sns.barplot(x = months_in_order.index, y = months_in_order.values)\n",
    "\n",
    "\n",
    "fmt_thous = mticks.FuncFormatter(thousands)\n",
    "ax.yaxis.set_major_formatter(fmt_thous)\n",
    "\n",
    "# set title and axes\n",
    "ax.set_title('Total Crimes by Month(2001-2022) \\n Sorted by Month Name', fontsize = 20, weight = 'bold')\n",
    "ax.set_ylabel('Number of Crimes (in Thousands)', fontsize = 20, weight = 'bold')\n",
    "ax.set_xlabel('Month', fontsize = 15, weight = 'bold')\n",
    "\n",
    "# rotate x-ticks\n",
    "plt.xticks(rotation = 90);"
   ]
  },
  {
   "cell_type": "markdown",
   "id": "b62bc968",
   "metadata": {},
   "source": [
    "### Analysis"
   ]
  },
  {
   "cell_type": "markdown",
   "id": "5e787577",
   "metadata": {},
   "source": [
    "Which months have the most crime? Which have the least?\n",
    "- **July** has the **most** crimes committed with **717168** total crimes. **August** has the second highest crimes committed with **710369** total crimes.\n",
    "\n",
    "- **February** has the **least** crimes committed with **547594** total crimes. **December** has the second lowest crimes committed with **579679** total crimes.     "
   ]
  },
  {
   "cell_type": "markdown",
   "id": "05a658b0",
   "metadata": {},
   "source": [
    "## 3b. Are there any individual crimes that do not follow this pattern?"
   ]
  },
  {
   "cell_type": "code",
   "execution_count": null,
   "id": "ae091c17",
   "metadata": {},
   "outputs": [],
   "source": [
    "monthly['Primary Type'].value_counts()"
   ]
  },
  {
   "cell_type": "code",
   "execution_count": null,
   "id": "5e91ee0c",
   "metadata": {},
   "outputs": [],
   "source": [
    "monthly['Primary Type'] = monthly['Primary Type'].replace(\n",
    "    {'CRIM SEXUAL ASSAULT': 'CRIMINAL SEXUAL ASSAULT',                                                 \n",
    "     'NON - CRIMINAL': 'NON-CRIMINAL',                                                     \n",
    "     'NON-CRIMINAL (SUBJECT SPECIFIED)': 'NON-CRIMINAL',                                                 \n",
    "     'OTHER NARCOTIC VIOLATION': 'NARCOTICS'})\n",
    "\n",
    "monthly['Primary Type'].value_counts()"
   ]
  },
  {
   "cell_type": "code",
   "execution_count": null,
   "id": "01d0ab36",
   "metadata": {},
   "outputs": [],
   "source": [
    "monthly_crime = monthly.groupby(['Primary Type', 'Month']).size()\n",
    "\n",
    "monthly_crime"
   ]
  },
  {
   "cell_type": "code",
   "execution_count": null,
   "id": "f8858c8f",
   "metadata": {},
   "outputs": [],
   "source": [
    "unstacked_monthly_crime = monthly_crime.unstack(level = 0)\n",
    "\n",
    "unstacked_monthly_crime"
   ]
  },
  {
   "cell_type": "code",
   "execution_count": null,
   "id": "187c68d6",
   "metadata": {
    "scrolled": false
   },
   "outputs": [],
   "source": [
    "unstacked_monthly_crime = unstacked_monthly_crime.astype('Int64')\n",
    "\n",
    "unstacked_monthly_crime.isna().sum()"
   ]
  },
  {
   "cell_type": "code",
   "execution_count": null,
   "id": "7fdff9d4",
   "metadata": {},
   "outputs": [],
   "source": [
    "unstacked_monthly_crime.fillna(value = 0, inplace = True)\n",
    "unstacked_monthly_crime.isna().sum()"
   ]
  },
  {
   "cell_type": "markdown",
   "id": "af050ff3",
   "metadata": {},
   "source": [
    "### Visualization"
   ]
  },
  {
   "cell_type": "code",
   "execution_count": null,
   "id": "146546b5",
   "metadata": {
    "scrolled": false
   },
   "outputs": [],
   "source": [
    "fig, axes = plt.subplots(len(unstacked_monthly_crime.columns),\n",
    "                        figsize = (10, 8 * len(unstacked_monthly_crime.columns)))  \n",
    "    \n",
    "\n",
    "for i, column in enumerate(unstacked_monthly_crime):\n",
    "  \n",
    "    ax = axes[i]\n",
    "\n",
    "    fmt_thous = mticks.FuncFormatter(thousands)\n",
    "    ax.yaxis.set_major_formatter(fmt_thous)\n",
    "\n",
    "\n",
    "    month_datetime = pd.to_datetime(unstacked_monthly_crime.index, format = '%B').sort_values()\n",
    "    x_months = range(len(unstacked_monthly_crime))\n",
    "    x_labels = [m.strftime('%B') for m in month_datetime]\n",
    "    ax.set_xticks(x_months)\n",
    "    ax.set_xticklabels(x_labels, rotation = 60)\n",
    "    \n",
    "\n",
    "    ax.set_title(f'Total {column.title()} Crimes by Month', fontsize = 20, weight = 'bold')\n",
    "    ax.set_ylabel('Total Crimes', fontsize = 15, weight = 'bold')\n",
    "    ax.set_xlabel('Month', fontsize = 15, weight = 'bold')\n",
    "\n",
    "\n",
    "    ax.bar(x_months, unstacked_monthly_crime[column])\n",
    "    ax.tick_params(axis = 'x', rotation = 60)\n",
    "\n",
    "plt.tight_layout()"
   ]
  },
  {
   "cell_type": "markdown",
   "id": "ef6073e0",
   "metadata": {},
   "source": [
    "### Analysis"
   ]
  },
  {
   "cell_type": "markdown",
   "id": "db20f701",
   "metadata": {},
   "source": [
    "- These crimes follow the trends that have the most offenses in warmer months(June - September) and the least in the winter(December - March):\n",
    "  - ASSAULT: Most in fall (September) and the least in spring (March)\n",
    "  - CRIMINAL SEXUAL ASSAULT: Most in summer (June) and the least in spring (March)\n",
    "  - CRIMINAL TRESPASS: Most in summer (August) and the least in spring (March)\n",
    "  - LIQUOR LAW VIOLATION: Most in summer (July) and the least in spring (March)\n",
    "  - NARCOTICS: Most in summer (August) and the least in spring (March)  \n",
    "  - OTHER OFFENSE: Most in summer (August) and the least in spring (March)\n",
    "  - SEX OFFENSE: Most in summer (June) and the least in spring (March)\n",
    "  - STALKING: Most in summer (July) and the least in spring (March)\n",
    "\n",
    "\n",
    "\n",
    "- These crimes follow a different trend from the overall trend:\n",
    "  - ARSON:  Most in summer (June) and the least in spring (April)\n",
    "  - BATTERY: Most in fall (September) and the least in spring (April)\n",
    "  - BURGLARY: Most in winter (February) and the least in spring (April)\n",
    "  - CONCEALED CARRY LICENSE VIOLATION: Most in winter (December) and the least in spring (March)\n",
    "  - CRIMINAL DAMAGE: Most in summer (June) and the least in spring (April)\n",
    "  - DECEPTIVE PRACTICE: Most in spring (May) and the least in spring (April)\n",
    "  - DOMESTIC VIOLENCE: The only instances tracked were in spring (May)\n",
    "  - GAMBLING: Most in winter (February) and the least in spring (March)\n",
    "  - HOMICIDE: Most in summer (June) and the least in spring (April)\n",
    "  - HUMAN TRAFFICKING: Most in spring (May) and the least in fall (October)\n",
    "  - INTERFERENCE WITH PUBLIC OFFICER: Most in winter (February) and the least in spring (March)\n",
    "  - INTIMIDATION: Most in fall (November) and the least in fall (October)\n",
    "  - KIDNAPPING: Most in fall (September) and the least in spring (April)\n",
    "  - MOTOR VEHICLE THEFT: Most in fall (November) and the least in spring (April)\n",
    "  - NON-CRIMINAL: Most in summer (July) and the least in summer (August)\n",
    "  - OBSCENITY: Most in fall (November) and the least in spring (February)\n",
    "  - OFFENSE INVOLVING CHILDREN: Most in Spring (May) and the least in fall (October)\n",
    "  - PROSTITUTION: Most in spring (May) and the least in spring (March)\n",
    "  - PUBLIC INDECENCY: Most in winter (February) and the least in spring (May)\n",
    "  - PUBLIC PEACE VIOLATION: Most in fall (September) and the least in spring (March)\n",
    "  - RITUALISM: Most in several months (February, March, May, August, November, December and the least in spring (July)\n",
    "  - ROBBERY: Most in fall (November) and the least in spring (April)\n",
    "  - THEFT: Most in winter (February) and the least in spring (April)\n",
    "  - WEAPONS VIOLATION: Most in fall (September) and the least in spring (April)"
   ]
  },
  {
   "cell_type": "markdown",
   "id": "21481f92",
   "metadata": {},
   "source": [
    "- Although several crimes follow a slightly different trend, the vast majority of them increase during the warmer months and decrease during the colder ones. "
   ]
  }
 ],
 "metadata": {
  "kernelspec": {
   "display_name": "Python (dojo-env)",
   "language": "python",
   "name": "dojo-env"
  },
  "language_info": {
   "codemirror_mode": {
    "name": "ipython",
    "version": 3
   },
   "file_extension": ".py",
   "mimetype": "text/x-python",
   "name": "python",
   "nbconvert_exporter": "python",
   "pygments_lexer": "ipython3",
   "version": "3.9.15"
  },
  "toc": {
   "base_numbering": 1,
   "nav_menu": {},
   "number_sections": false,
   "sideBar": true,
   "skip_h1_title": false,
   "title_cell": "Table of Contents",
   "title_sidebar": "Contents",
   "toc_cell": false,
   "toc_position": {
    "height": "calc(100% - 180px)",
    "left": "10px",
    "top": "150px",
    "width": "398.797px"
   },
   "toc_section_display": true,
   "toc_window_display": true
  }
 },
 "nbformat": 4,
 "nbformat_minor": 5
}
